{
  "nbformat": 4,
  "nbformat_minor": 0,
  "metadata": {
    "colab": {
      "name": "Boltzmann_Machine.ipynb",
      "provenance": [],
      "collapsed_sections": [],
      "authorship_tag": "ABX9TyPCXShVzIodEhAF5qwcKwKj",
      "include_colab_link": true
    },
    "kernelspec": {
      "name": "python3",
      "display_name": "Python 3"
    }
  },
  "cells": [
    {
      "cell_type": "markdown",
      "metadata": {
        "id": "view-in-github",
        "colab_type": "text"
      },
      "source": [
        "<a href=\"https://colab.research.google.com/github/Yuma-Ichikawa/boltzmann_machine/blob/main/Boltzmann_Machine.ipynb\" target=\"_parent\"><img src=\"https://colab.research.google.com/assets/colab-badge.svg\" alt=\"Open In Colab\"/></a>"
      ]
    },
    {
      "cell_type": "markdown",
      "metadata": {
        "id": "isox9Reovvxb"
      },
      "source": [
        "# Boltzmann Machineの実装"
      ]
    },
    {
      "cell_type": "code",
      "metadata": {
        "id": "EUsaMTkWvf7o"
      },
      "source": [
        "import numpy as np\n",
        "import matplotlib.pyplot as plt\n",
        "import pandas as pd\n",
        "%matplotlib inline\n",
        "plt.style.use('seaborn-darkgrid')\n",
        "plt.rcParams['image.cmap']='gray'"
      ],
      "execution_count": null,
      "outputs": []
    },
    {
      "cell_type": "markdown",
      "metadata": {
        "id": "AnqHQaC8v_3g"
      },
      "source": [
        "## 簡単なパターンを作成"
      ]
    },
    {
      "cell_type": "code",
      "metadata": {
        "id": "5cJ9cAQav7Ga"
      },
      "source": [
        "sub_mat1 = np.zeros((5, 15))\n",
        "sub_mat2 = np.zeros((15, 5))\n",
        "sub_mat3 = np.ones((5, 15))\n",
        "sub_mat4 = np.ones((15, 5))\n",
        "sub_mat5 = np.zeros((5, 5))\n",
        "sub_mat6 = np.ones((5, 5))\n",
        "sub_mat7 = np.concatenate([sub_mat6, sub_mat5, sub_mat5], axis=1)\n",
        "sub_mat8 = np.concatenate([sub_mat5, sub_mat6, sub_mat5], axis=1)\n",
        "sub_mat9 = np.concatenate([sub_mat5, sub_mat5, sub_mat6], axis=1)\n",
        "\n",
        "# 各画像データを作成\n",
        "data1 = np.concatenate([sub_mat1, sub_mat3, sub_mat1],axis=0)\n",
        "data2 = np.concatenate([sub_mat2,sub_mat4,sub_mat2],axis=1)\n",
        "data3 = np.concatenate([sub_mat1, sub_mat8, sub_mat1], axis=0)\n",
        "data4 = np.concatenate([sub_mat7, sub_mat8, sub_mat9], axis=0)\n",
        "data5 = np.concatenate([sub_mat9, sub_mat8, sub_mat7], axis=0) \n",
        "\n",
        "# 一次元配列に変換\n",
        "data1_1d = data1.ravel()\n",
        "data2_1d = data2.ravel()\n",
        "data3_1d = data3.ravel()\n",
        "data4_1d = data4.ravel()\n",
        "data5_1d = data5.ravel()\n",
        "\n",
        "# Datasetを作成\n",
        "sub_data = np.array([data1_1d, data2_1d, data3_1d, data4_1d, data5_1d])\n",
        "data = np.tile(sub_data, (300, 1))"
      ],
      "execution_count": null,
      "outputs": []
    },
    {
      "cell_type": "code",
      "metadata": {
        "colab": {
          "base_uri": "https://localhost:8080/",
          "height": 127
        },
        "id": "mpj6bfLQwQGG",
        "outputId": "ea8b8678-7027-40cb-f145-4a16e3d3575a"
      },
      "source": [
        "# sampleデータセットを表示\n",
        "fig, axis = plt.subplots(1, 5, constrained_layout=True)\n",
        "for i in range(5):\n",
        "    axis[i].imshow(data[i].reshape(15, -1))\n",
        "    axis[i].axis('off')\n",
        "plt.show()\n",
        "print(15*15)"
      ],
      "execution_count": null,
      "outputs": [
        {
          "output_type": "display_data",
          "data": {
            "image/png": "[encoded data removed]",
            "text/plain": [
              "<Figure size 432x288 with 5 Axes>"
            ]
          },
          "metadata": {
            "tags": []
          }
        },
        {
          "output_type": "stream",
          "text": [
            "225\n"
          ],
          "name": "stdout"
        }
      ]
    },
    {
      "cell_type": "code",
      "metadata": {
        "id": "w1T_EXEfwWGG"
      },
      "source": [
        "class BM:\n",
        "    def __init__(self, learning_rate=0.1, n_iter=10, verbose=0, random_state=None):\n",
        "        self.learning_rate = learning_rate\n",
        "        self.n_iter = n_iter\n",
        "        self.verbose = verbose\n",
        "        self.random_state = random_state\n",
        "        self.w = np.random.normal(loc=0.0, scale=0.1, size=(15,15))\n",
        "        self.b = np.zeros(15)\n",
        "\n",
        "    def sigmoid_belife(self, x, i=0):\n",
        "        p = np.sum(np.dot(self.w[i], x.T) - (self.w[i, i]*x[i]))\n",
        "        p += self.b[i]\n",
        "        p = self.sigmoid(p)\n",
        "        return p\n",
        "\n",
        "    def gibbs(self, x, gibbs_step=10):\n",
        "        x = x.copy()\n",
        "        for j in range(15):\n",
        "            p = self.sigmoid_belife(x, i=j)\n",
        "            x[i] = np.random.binomial(1, p)\n",
        "        return x\n",
        "\n",
        "    def sigmoid(self, x):\n",
        "        s = 1 / (1 + np.exp(- x))\n",
        "        return s"
      ],
      "execution_count": null,
      "outputs": []
    },
    {
      "cell_type": "code",
      "metadata": {
        "id": "57h5t8b5yYLq"
      },
      "source": [
        "bm = BM()"
      ],
      "execution_count": null,
      "outputs": []
    },
    {
      "cell_type": "code",
      "metadata": {
        "colab": {
          "base_uri": "https://localhost:8080/"
        },
        "id": "KPwYvLAhyogU",
        "outputId": "4b72e37e-ac3e-4962-c0a3-c4e4e46a2e02"
      },
      "source": [
        "bm.gibbs(a)"
      ],
      "execution_count": null,
      "outputs": [
        {
          "output_type": "execute_result",
          "data": {
            "text/plain": [
              "array([1. , 0.1, 0.1, 0.1, 0. , 0.1, 0.1, 0.1, 0.1, 0.1, 0.1, 0.1, 0.1,\n",
              "       0.1, 0.1])"
            ]
          },
          "metadata": {
            "tags": []
          },
          "execution_count": 85
        }
      ]
    },
    {
      "cell_type": "code",
      "metadata": {
        "colab": {
          "base_uri": "https://localhost:8080/"
        },
        "id": "yaT9UB67yrsv",
        "outputId": "55bde3e8-9be9-47cf-e74b-45b8a4de8240"
      },
      "source": [
        "a = np.zeros(15) + 0.1\n",
        "a"
      ],
      "execution_count": null,
      "outputs": [
        {
          "output_type": "execute_result",
          "data": {
            "text/plain": [
              "array([0.1, 0.1, 0.1, 0.1, 0.1, 0.1, 0.1, 0.1, 0.1, 0.1, 0.1, 0.1, 0.1,\n",
              "       0.1, 0.1])"
            ]
          },
          "metadata": {
            "tags": []
          },
          "execution_count": 66
        }
      ]
    },
    {
      "cell_type": "code",
      "metadata": {
        "colab": {
          "base_uri": "https://localhost:8080/"
        },
        "id": "tk3O6Map3q35",
        "outputId": "54d1989c-f38f-4561-c807-69ca07d583d4"
      },
      "source": [
        "ps = [0.23, 0.48, 0.14, 0.98]\n",
        "np.random.binomial(1, p=ps)"
      ],
      "execution_count": null,
      "outputs": [
        {
          "output_type": "execute_result",
          "data": {
            "text/plain": [
              "array([0, 1, 0, 1])"
            ]
          },
          "metadata": {
            "tags": []
          },
          "execution_count": 44
        }
      ]
    },
    {
      "cell_type": "code",
      "metadata": {
        "colab": {
          "base_uri": "https://localhost:8080/"
        },
        "id": "uO8CUo255oVi",
        "outputId": "e6482bca-a637-4098-f756-598d4c060844"
      },
      "source": [
        "ps = [0.1, 0.2, 0.3]\n",
        "[np.random.choice(2, p=[1 - p, p]) for p in ps]"
      ],
      "execution_count": null,
      "outputs": [
        {
          "output_type": "execute_result",
          "data": {
            "text/plain": [
              "[0, 0, 1]"
            ]
          },
          "metadata": {
            "tags": []
          },
          "execution_count": 45
        }
      ]
    },
    {
      "cell_type": "code",
      "metadata": {
        "colab": {
          "base_uri": "https://localhost:8080/"
        },
        "id": "CZRbMPZJ6UPb",
        "outputId": "b450217c-d681-46f0-8e56-cc8b9e18a5d4"
      },
      "source": [
        "p=0.1\n",
        "np.random.choice(2, p=[1-p, p])"
      ],
      "execution_count": null,
      "outputs": [
        {
          "output_type": "execute_result",
          "data": {
            "text/plain": [
              "0"
            ]
          },
          "metadata": {
            "tags": []
          },
          "execution_count": 46
        }
      ]
    },
    {
      "cell_type": "code",
      "metadata": {
        "colab": {
          "base_uri": "https://localhost:8080/"
        },
        "id": "p_VDh0Hz6j1j",
        "outputId": "aa2905e1-2878-4fa4-9d19-2aec4fe13f88"
      },
      "source": [
        "np.random.binomial(1, 0.6)"
      ],
      "execution_count": null,
      "outputs": [
        {
          "output_type": "execute_result",
          "data": {
            "text/plain": [
              "1"
            ]
          },
          "metadata": {
            "tags": []
          },
          "execution_count": 76
        }
      ]
    },
    {
      "cell_type": "code",
      "metadata": {
        "id": "_WBC_i6l8CcT"
      },
      "source": [
        ""
      ],
      "execution_count": null,
      "outputs": []
    },
    {
      "cell_type": "code",
      "metadata": {
        "id": "qq9CMHw8vrFA"
      },
      "source": [
        ""
      ],
      "execution_count": null,
      "outputs": []
    },
    {
      "cell_type": "code",
      "metadata": {
        "id": "yXkhV1k4vsi3"
      },
      "source": [
        ""
      ],
      "execution_count": null,
      "outputs": []
    }
  ]
}